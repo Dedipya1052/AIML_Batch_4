{
  "nbformat": 4,
  "nbformat_minor": 0,
  "metadata": {
    "colab": {
      "provenance": [],
      "authorship_tag": "ABX9TyOEkEdV/fuLo4WwBmMlhX95",
      "include_colab_link": true
    },
    "kernelspec": {
      "name": "python3",
      "display_name": "Python 3"
    },
    "language_info": {
      "name": "python"
    }
  },
  "cells": [
    {
      "cell_type": "markdown",
      "metadata": {
        "id": "view-in-github",
        "colab_type": "text"
      },
      "source": [
        "<a href=\"https://colab.research.google.com/github/Dedipya1052/AIML_Batch_4/blob/main/assignment1.3.ipynb\" target=\"_parent\"><img src=\"https://colab.research.google.com/assets/colab-badge.svg\" alt=\"Open In Colab\"/></a>"
      ]
    },
    {
      "cell_type": "code",
      "execution_count": null,
      "metadata": {
        "id": "t-Jtr_yXZjj2"
      },
      "outputs": [],
      "source": [
        "from google.colab import drive\n",
        "import pandas as pd\n",
        "\n",
        "# Mount Google Drive\n",
        "drive.mount('/content/drive')\n",
        "\n",
        "# Load Excel file\n",
        "file_path = '/content/drive/My Drive/your_excel_file.xlsx'\n",
        "df_excel = pd.read_excel(file_path)\n",
        "\n",
        "# Display the data\n",
        "print(df_excel)\n",
        "# Upload .tsv file to Colab\n",
        "from google.colab import files\n",
        "uploaded = files.upload()\n",
        "\n",
        "# Read .tsv file\n",
        "import pandas as pd\n",
        "import io\n",
        "df_tsv = pd.read_csv(io.BytesIO(uploaded['your_tsv_file.tsv']), delimiter='\\t')\n",
        "\n",
        "# Display the data\n",
        "print(df_tsv)\n",
        "# Upload .csv file to Colab\n",
        "from google.colab import files\n",
        "uploaded = files.upload()\n",
        "\n",
        "# Read .csv file\n",
        "import pandas as pd\n",
        "import io\n",
        "df_csv = pd.read_csv(io.BytesIO(uploaded['your_csv_file.csv']))\n",
        "\n",
        "# Display the data\n",
        "print(df_csv)\n",
        "# Upload .xlsx file to Colab\n",
        "from google.colab import files\n",
        "uploaded = files.upload()\n",
        "\n",
        "# Read .xlsx file\n",
        "import pandas as pd\n",
        "import io\n",
        "df_xlsx = pd.read_excel(io.BytesIO(uploaded['your_excel_file.xlsx']))\n",
        "\n",
        "# Display the data\n",
        "print(df_xlsx)\n",
        "# Read text from URL\n",
        "import pandas as pd\n",
        "url = 'your_url_here'\n",
        "df_url = pd.read_csv(url)\n",
        "\n",
        "# Display the data\n",
        "print(df_url)\n"
      ]
    }
  ]
}