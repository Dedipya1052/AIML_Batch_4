{
  "nbformat": 4,
  "nbformat_minor": 0,
  "metadata": {
    "colab": {
      "provenance": [],
      "authorship_tag": "ABX9TyOy3re34ZX2Y8sIWziEQR/r",
      "include_colab_link": true
    },
    "kernelspec": {
      "name": "python3",
      "display_name": "Python 3"
    },
    "language_info": {
      "name": "python"
    }
  },
  "cells": [
    {
      "cell_type": "markdown",
      "metadata": {
        "id": "view-in-github",
        "colab_type": "text"
      },
      "source": [
        "<a href=\"https://colab.research.google.com/github/Dedipya1052/AIML_Batch_4/blob/main/assigment3.2.ipynb\" target=\"_parent\"><img src=\"https://colab.research.google.com/assets/colab-badge.svg\" alt=\"Open In Colab\"/></a>"
      ]
    },
    {
      "cell_type": "code",
      "source": [
        "import math\n",
        "\n",
        "def minimax_search(game, state):\n",
        "    \"\"\"Search game tree to determine best move; return (value, move) pair.\"\"\"\n",
        "    player = state.to_move\n",
        "\n",
        "    def max_value(state):\n",
        "        if game.is_terminal(state):\n",
        "            return game.utility(state, player), None\n",
        "        v, move = -math.inf, None\n",
        "        for a in game.actions(state):\n",
        "            v2, _ = min_value(game.result(state, a))\n",
        "            if v2 > v:\n",
        "                v, move = v2, a\n",
        "        return v, move\n",
        "\n",
        "    def min_value(state):\n",
        "        if game.is_terminal(state):\n",
        "            return game.utility(state, player), None\n",
        "        v, move = math.inf, None\n",
        "        for a in game.actions(state):\n",
        "            v2, _ = max_value(game.result(state, a))\n",
        "            if v2 < v:\n",
        "                v, move = v2, a\n",
        "        return v, move\n",
        "\n",
        "    return max_value(state)\n",
        "\n",
        "\n",
        "def alphabeta_search(game, state):\n",
        "    \"\"\"Search game to determine best action; use alpha-beta pruning.\"\"\"\n",
        "    player = state.to_move\n",
        "\n",
        "    def max_value(state, alpha, beta):\n",
        "        if game.is_terminal(state):\n",
        "            return game.utility(state, player), None\n",
        "        v, move = -math.inf, None\n",
        "        for a in game.actions(state):\n",
        "            v2, _ = min_value(game.result(state, a), alpha, beta)\n",
        "            if v2 > v:\n",
        "                v, move = v2, a\n",
        "            alpha = max(alpha, v)\n",
        "            if v >= beta:\n",
        "                return v, move\n",
        "        return v, move\n",
        "\n",
        "    def min_value(state, alpha, beta):\n",
        "        if game.is_terminal(state):\n",
        "            return game.utility(state, player), None\n",
        "        v, move = math.inf, None\n",
        "        for a in game.actions(state):\n",
        "            v2, _ = max_value(game.result(state, a), alpha, beta)\n",
        "            if v2 < v:\n",
        "                v, move = v2, a\n",
        "            beta = min(beta, v)\n",
        "            if v <= alpha:\n",
        "                return v, move\n",
        "        return v, move\n",
        "\n",
        "    return max_value(state, -math.inf, math.inf)\n"
      ],
      "metadata": {
        "id": "c8bB7y92eSM7"
      },
      "execution_count": 8,
      "outputs": []
    }
  ]
}